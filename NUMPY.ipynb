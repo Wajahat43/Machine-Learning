{
 "nbformat": 4,
 "nbformat_minor": 0,
 "metadata": {
  "colab": {
   "provenance": []
  },
  "kernelspec": {
   "name": "python3",
   "display_name": "Python 3"
  },
  "language_info": {
   "name": "python"
  }
 },
 "cells": [
  {
   "cell_type": "code",
   "execution_count": null,
   "metadata": {
    "id": "mprVqDqABFsO",
    "pycharm": {
     "is_executing": true
    }
   },
   "outputs": [],
   "source": [
    "import numpy as np"
   ]
  },
  {
   "cell_type": "code",
   "source": [
    "my_list = [1,2,3,4,5,6]\n",
    "arr = np.array(my_list)"
   ],
   "metadata": {
    "id": "iNSY_L1ZBKOL"
   },
   "execution_count": 17,
   "outputs": []
  },
  {
   "cell_type": "code",
   "source": [
    "arr = np.array([my_list,my_list,[1,2,3]])"
   ],
   "metadata": {
    "colab": {
     "base_uri": "https://localhost:8080/"
    },
    "id": "yeV_J4C1CQZk",
    "outputId": "5bd3737d-e9aa-4abf-8fb5-285be50a30f0"
   },
   "execution_count": 23,
   "outputs": [
    {
     "output_type": "stream",
     "name": "stderr",
     "text": [
      "<ipython-input-23-422cda8beaa8>:1: VisibleDeprecationWarning: Creating an ndarray from ragged nested sequences (which is a list-or-tuple of lists-or-tuples-or ndarrays with different lengths or shapes) is deprecated. If you meant to do this, you must specify 'dtype=object' when creating the ndarray.\n",
      "  arr = np.array([my_list,my_list,[1,2,3]])\n"
     ]
    }
   ]
  },
  {
   "cell_type": "code",
   "source": [
    "arr\n"
   ],
   "metadata": {
    "colab": {
     "base_uri": "https://localhost:8080/"
    },
    "id": "gxKzEuAqCXyt",
    "outputId": "14abe2ae-6b88-43b2-f624-7bd18dd4b49f"
   },
   "execution_count": 26,
   "outputs": [
    {
     "output_type": "execute_result",
     "data": {
      "text/plain": [
       "array([list([1, 2, 3, 4, 5, 6]), list([1, 2, 3, 4, 5, 6]),\n",
       "       list([1, 2, 3])], dtype=object)"
      ]
     },
     "metadata": {},
     "execution_count": 26
    }
   ]
  },
  {
   "cell_type": "code",
   "source": [
    "arr.shape"
   ],
   "metadata": {
    "colab": {
     "base_uri": "https://localhost:8080/"
    },
    "id": "6FBUTndnBMFQ",
    "outputId": "de2ab60f-5562-438e-d6f9-270096b36d4b"
   },
   "execution_count": 9,
   "outputs": [
    {
     "output_type": "execute_result",
     "data": {
      "text/plain": [
       "(3, 5)"
      ]
     },
     "metadata": {},
     "execution_count": 9
    }
   ]
  },
  {
   "cell_type": "code",
   "source": [],
   "metadata": {
    "id": "7lqXI1AYBW3B"
   },
   "execution_count": null,
   "outputs": []
  }
 ]
}
